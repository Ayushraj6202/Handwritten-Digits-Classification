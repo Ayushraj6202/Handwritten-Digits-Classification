{
  "nbformat": 4,
  "nbformat_minor": 0,
  "metadata": {
    "colab": {
      "provenance": [],
      "gpuType": "T4",
      "mount_file_id": "1JXsGpXvNsb9282nAddGlOFLj30Zq7xg9",
      "authorship_tag": "ABX9TyOYEjHvsNhdMILHCczumSDR",
      "include_colab_link": true
    },
    "kernelspec": {
      "name": "python3",
      "display_name": "Python 3"
    },
    "language_info": {
      "name": "python"
    },
    "accelerator": "GPU"
  },
  "cells": [
    {
      "cell_type": "markdown",
      "metadata": {
        "id": "view-in-github",
        "colab_type": "text"
      },
      "source": [
        "<a href=\"https://colab.research.google.com/github/Ayushraj6202/Handwritten-Digits-Classification/blob/main/Handwritted_Digit_Classification.ipynb\" target=\"_parent\"><img src=\"https://colab.research.google.com/assets/colab-badge.svg\" alt=\"Open In Colab\"/></a>"
      ]
    },
    {
      "cell_type": "code",
      "source": [
        "import tensorflow\n",
        "from tensorflow import keras\n",
        "from tensorflow.keras import Sequential\n",
        "from keras.layers import Dense,Flatten"
      ],
      "metadata": {
        "id": "4Q1SyMnIWj5I"
      },
      "execution_count": null,
      "outputs": []
    },
    {
      "cell_type": "code",
      "source": [
        "(X_train,y_train),(X_test,y_test) = keras.datasets.mnist.load_data()"
      ],
      "metadata": {
        "id": "jdD2WQ9cW6BF",
        "colab": {
          "base_uri": "https://localhost:8080/"
        },
        "outputId": "f4da3b4f-dbdd-416b-88fa-8015701721b9"
      },
      "execution_count": null,
      "outputs": [
        {
          "output_type": "stream",
          "name": "stdout",
          "text": [
            "Downloading data from https://storage.googleapis.com/tensorflow/tf-keras-datasets/mnist.npz\n",
            "11490434/11490434 [==============================] - 0s 0us/step\n"
          ]
        }
      ]
    },
    {
      "cell_type": "code",
      "source": [
        "X_train[0]"
      ],
      "metadata": {
        "colab": {
          "base_uri": "https://localhost:8080/"
        },
        "id": "KpQbkHp3Sj0R",
        "outputId": "fd5383ef-b4fb-4b6f-d663-ad494e5f8f97"
      },
      "execution_count": null,
      "outputs": [
        {
          "output_type": "execute_result",
          "data": {
            "text/plain": [
              "array([[0.        , 0.        , 0.        , 0.        , 0.        ,\n",
              "        0.        , 0.        , 0.        , 0.        , 0.        ,\n",
              "        0.        , 0.        , 0.        , 0.        , 0.        ,\n",
              "        0.        , 0.        , 0.        , 0.        , 0.        ,\n",
              "        0.        , 0.        , 0.        , 0.        , 0.        ,\n",
              "        0.        , 0.        , 0.        ],\n",
              "       [0.        , 0.        , 0.        , 0.        , 0.        ,\n",
              "        0.        , 0.        , 0.        , 0.        , 0.        ,\n",
              "        0.        , 0.        , 0.        , 0.        , 0.        ,\n",
              "        0.        , 0.        , 0.        , 0.        , 0.        ,\n",
              "        0.        , 0.        , 0.        , 0.        , 0.        ,\n",
              "        0.        , 0.        , 0.        ],\n",
              "       [0.        , 0.        , 0.        , 0.        , 0.        ,\n",
              "        0.        , 0.        , 0.        , 0.        , 0.        ,\n",
              "        0.        , 0.        , 0.        , 0.        , 0.        ,\n",
              "        0.        , 0.        , 0.        , 0.        , 0.        ,\n",
              "        0.        , 0.        , 0.        , 0.        , 0.        ,\n",
              "        0.        , 0.        , 0.        ],\n",
              "       [0.        , 0.        , 0.        , 0.        , 0.        ,\n",
              "        0.        , 0.        , 0.        , 0.        , 0.        ,\n",
              "        0.        , 0.        , 0.        , 0.        , 0.        ,\n",
              "        0.        , 0.        , 0.        , 0.        , 0.        ,\n",
              "        0.        , 0.        , 0.        , 0.        , 0.        ,\n",
              "        0.        , 0.        , 0.        ],\n",
              "       [0.        , 0.        , 0.        , 0.        , 0.        ,\n",
              "        0.        , 0.        , 0.        , 0.        , 0.        ,\n",
              "        0.        , 0.        , 0.        , 0.        , 0.        ,\n",
              "        0.        , 0.        , 0.        , 0.        , 0.        ,\n",
              "        0.        , 0.        , 0.        , 0.        , 0.        ,\n",
              "        0.        , 0.        , 0.        ],\n",
              "       [0.        , 0.        , 0.        , 0.        , 0.        ,\n",
              "        0.        , 0.        , 0.        , 0.        , 0.        ,\n",
              "        0.        , 0.        , 0.01176471, 0.07058824, 0.07058824,\n",
              "        0.07058824, 0.49411765, 0.53333333, 0.68627451, 0.10196078,\n",
              "        0.65098039, 1.        , 0.96862745, 0.49803922, 0.        ,\n",
              "        0.        , 0.        , 0.        ],\n",
              "       [0.        , 0.        , 0.        , 0.        , 0.        ,\n",
              "        0.        , 0.        , 0.        , 0.11764706, 0.14117647,\n",
              "        0.36862745, 0.60392157, 0.66666667, 0.99215686, 0.99215686,\n",
              "        0.99215686, 0.99215686, 0.99215686, 0.88235294, 0.6745098 ,\n",
              "        0.99215686, 0.94901961, 0.76470588, 0.25098039, 0.        ,\n",
              "        0.        , 0.        , 0.        ],\n",
              "       [0.        , 0.        , 0.        , 0.        , 0.        ,\n",
              "        0.        , 0.        , 0.19215686, 0.93333333, 0.99215686,\n",
              "        0.99215686, 0.99215686, 0.99215686, 0.99215686, 0.99215686,\n",
              "        0.99215686, 0.99215686, 0.98431373, 0.36470588, 0.32156863,\n",
              "        0.32156863, 0.21960784, 0.15294118, 0.        , 0.        ,\n",
              "        0.        , 0.        , 0.        ],\n",
              "       [0.        , 0.        , 0.        , 0.        , 0.        ,\n",
              "        0.        , 0.        , 0.07058824, 0.85882353, 0.99215686,\n",
              "        0.99215686, 0.99215686, 0.99215686, 0.99215686, 0.77647059,\n",
              "        0.71372549, 0.96862745, 0.94509804, 0.        , 0.        ,\n",
              "        0.        , 0.        , 0.        , 0.        , 0.        ,\n",
              "        0.        , 0.        , 0.        ],\n",
              "       [0.        , 0.        , 0.        , 0.        , 0.        ,\n",
              "        0.        , 0.        , 0.        , 0.31372549, 0.61176471,\n",
              "        0.41960784, 0.99215686, 0.99215686, 0.80392157, 0.04313725,\n",
              "        0.        , 0.16862745, 0.60392157, 0.        , 0.        ,\n",
              "        0.        , 0.        , 0.        , 0.        , 0.        ,\n",
              "        0.        , 0.        , 0.        ],\n",
              "       [0.        , 0.        , 0.        , 0.        , 0.        ,\n",
              "        0.        , 0.        , 0.        , 0.        , 0.05490196,\n",
              "        0.00392157, 0.60392157, 0.99215686, 0.35294118, 0.        ,\n",
              "        0.        , 0.        , 0.        , 0.        , 0.        ,\n",
              "        0.        , 0.        , 0.        , 0.        , 0.        ,\n",
              "        0.        , 0.        , 0.        ],\n",
              "       [0.        , 0.        , 0.        , 0.        , 0.        ,\n",
              "        0.        , 0.        , 0.        , 0.        , 0.        ,\n",
              "        0.        , 0.54509804, 0.99215686, 0.74509804, 0.00784314,\n",
              "        0.        , 0.        , 0.        , 0.        , 0.        ,\n",
              "        0.        , 0.        , 0.        , 0.        , 0.        ,\n",
              "        0.        , 0.        , 0.        ],\n",
              "       [0.        , 0.        , 0.        , 0.        , 0.        ,\n",
              "        0.        , 0.        , 0.        , 0.        , 0.        ,\n",
              "        0.        , 0.04313725, 0.74509804, 0.99215686, 0.2745098 ,\n",
              "        0.        , 0.        , 0.        , 0.        , 0.        ,\n",
              "        0.        , 0.        , 0.        , 0.        , 0.        ,\n",
              "        0.        , 0.        , 0.        ],\n",
              "       [0.        , 0.        , 0.        , 0.        , 0.        ,\n",
              "        0.        , 0.        , 0.        , 0.        , 0.        ,\n",
              "        0.        , 0.        , 0.1372549 , 0.94509804, 0.88235294,\n",
              "        0.62745098, 0.42352941, 0.00392157, 0.        , 0.        ,\n",
              "        0.        , 0.        , 0.        , 0.        , 0.        ,\n",
              "        0.        , 0.        , 0.        ],\n",
              "       [0.        , 0.        , 0.        , 0.        , 0.        ,\n",
              "        0.        , 0.        , 0.        , 0.        , 0.        ,\n",
              "        0.        , 0.        , 0.        , 0.31764706, 0.94117647,\n",
              "        0.99215686, 0.99215686, 0.46666667, 0.09803922, 0.        ,\n",
              "        0.        , 0.        , 0.        , 0.        , 0.        ,\n",
              "        0.        , 0.        , 0.        ],\n",
              "       [0.        , 0.        , 0.        , 0.        , 0.        ,\n",
              "        0.        , 0.        , 0.        , 0.        , 0.        ,\n",
              "        0.        , 0.        , 0.        , 0.        , 0.17647059,\n",
              "        0.72941176, 0.99215686, 0.99215686, 0.58823529, 0.10588235,\n",
              "        0.        , 0.        , 0.        , 0.        , 0.        ,\n",
              "        0.        , 0.        , 0.        ],\n",
              "       [0.        , 0.        , 0.        , 0.        , 0.        ,\n",
              "        0.        , 0.        , 0.        , 0.        , 0.        ,\n",
              "        0.        , 0.        , 0.        , 0.        , 0.        ,\n",
              "        0.0627451 , 0.36470588, 0.98823529, 0.99215686, 0.73333333,\n",
              "        0.        , 0.        , 0.        , 0.        , 0.        ,\n",
              "        0.        , 0.        , 0.        ],\n",
              "       [0.        , 0.        , 0.        , 0.        , 0.        ,\n",
              "        0.        , 0.        , 0.        , 0.        , 0.        ,\n",
              "        0.        , 0.        , 0.        , 0.        , 0.        ,\n",
              "        0.        , 0.        , 0.97647059, 0.99215686, 0.97647059,\n",
              "        0.25098039, 0.        , 0.        , 0.        , 0.        ,\n",
              "        0.        , 0.        , 0.        ],\n",
              "       [0.        , 0.        , 0.        , 0.        , 0.        ,\n",
              "        0.        , 0.        , 0.        , 0.        , 0.        ,\n",
              "        0.        , 0.        , 0.        , 0.        , 0.18039216,\n",
              "        0.50980392, 0.71764706, 0.99215686, 0.99215686, 0.81176471,\n",
              "        0.00784314, 0.        , 0.        , 0.        , 0.        ,\n",
              "        0.        , 0.        , 0.        ],\n",
              "       [0.        , 0.        , 0.        , 0.        , 0.        ,\n",
              "        0.        , 0.        , 0.        , 0.        , 0.        ,\n",
              "        0.        , 0.        , 0.15294118, 0.58039216, 0.89803922,\n",
              "        0.99215686, 0.99215686, 0.99215686, 0.98039216, 0.71372549,\n",
              "        0.        , 0.        , 0.        , 0.        , 0.        ,\n",
              "        0.        , 0.        , 0.        ],\n",
              "       [0.        , 0.        , 0.        , 0.        , 0.        ,\n",
              "        0.        , 0.        , 0.        , 0.        , 0.        ,\n",
              "        0.09411765, 0.44705882, 0.86666667, 0.99215686, 0.99215686,\n",
              "        0.99215686, 0.99215686, 0.78823529, 0.30588235, 0.        ,\n",
              "        0.        , 0.        , 0.        , 0.        , 0.        ,\n",
              "        0.        , 0.        , 0.        ],\n",
              "       [0.        , 0.        , 0.        , 0.        , 0.        ,\n",
              "        0.        , 0.        , 0.        , 0.09019608, 0.25882353,\n",
              "        0.83529412, 0.99215686, 0.99215686, 0.99215686, 0.99215686,\n",
              "        0.77647059, 0.31764706, 0.00784314, 0.        , 0.        ,\n",
              "        0.        , 0.        , 0.        , 0.        , 0.        ,\n",
              "        0.        , 0.        , 0.        ],\n",
              "       [0.        , 0.        , 0.        , 0.        , 0.        ,\n",
              "        0.        , 0.07058824, 0.67058824, 0.85882353, 0.99215686,\n",
              "        0.99215686, 0.99215686, 0.99215686, 0.76470588, 0.31372549,\n",
              "        0.03529412, 0.        , 0.        , 0.        , 0.        ,\n",
              "        0.        , 0.        , 0.        , 0.        , 0.        ,\n",
              "        0.        , 0.        , 0.        ],\n",
              "       [0.        , 0.        , 0.        , 0.        , 0.21568627,\n",
              "        0.6745098 , 0.88627451, 0.99215686, 0.99215686, 0.99215686,\n",
              "        0.99215686, 0.95686275, 0.52156863, 0.04313725, 0.        ,\n",
              "        0.        , 0.        , 0.        , 0.        , 0.        ,\n",
              "        0.        , 0.        , 0.        , 0.        , 0.        ,\n",
              "        0.        , 0.        , 0.        ],\n",
              "       [0.        , 0.        , 0.        , 0.        , 0.53333333,\n",
              "        0.99215686, 0.99215686, 0.99215686, 0.83137255, 0.52941176,\n",
              "        0.51764706, 0.0627451 , 0.        , 0.        , 0.        ,\n",
              "        0.        , 0.        , 0.        , 0.        , 0.        ,\n",
              "        0.        , 0.        , 0.        , 0.        , 0.        ,\n",
              "        0.        , 0.        , 0.        ],\n",
              "       [0.        , 0.        , 0.        , 0.        , 0.        ,\n",
              "        0.        , 0.        , 0.        , 0.        , 0.        ,\n",
              "        0.        , 0.        , 0.        , 0.        , 0.        ,\n",
              "        0.        , 0.        , 0.        , 0.        , 0.        ,\n",
              "        0.        , 0.        , 0.        , 0.        , 0.        ,\n",
              "        0.        , 0.        , 0.        ],\n",
              "       [0.        , 0.        , 0.        , 0.        , 0.        ,\n",
              "        0.        , 0.        , 0.        , 0.        , 0.        ,\n",
              "        0.        , 0.        , 0.        , 0.        , 0.        ,\n",
              "        0.        , 0.        , 0.        , 0.        , 0.        ,\n",
              "        0.        , 0.        , 0.        , 0.        , 0.        ,\n",
              "        0.        , 0.        , 0.        ],\n",
              "       [0.        , 0.        , 0.        , 0.        , 0.        ,\n",
              "        0.        , 0.        , 0.        , 0.        , 0.        ,\n",
              "        0.        , 0.        , 0.        , 0.        , 0.        ,\n",
              "        0.        , 0.        , 0.        , 0.        , 0.        ,\n",
              "        0.        , 0.        , 0.        , 0.        , 0.        ,\n",
              "        0.        , 0.        , 0.        ]])"
            ]
          },
          "metadata": {},
          "execution_count": 7
        }
      ]
    },
    {
      "cell_type": "code",
      "source": [
        "X_train.shape"
      ],
      "metadata": {
        "colab": {
          "base_uri": "https://localhost:8080/"
        },
        "id": "L9IDl9dNXCRa",
        "outputId": "3da46359-1cb5-4c83-8c9a-d33f255871b8"
      },
      "execution_count": null,
      "outputs": [
        {
          "output_type": "execute_result",
          "data": {
            "text/plain": [
              "(60000, 28, 28)"
            ]
          },
          "metadata": {},
          "execution_count": 3
        }
      ]
    },
    {
      "cell_type": "code",
      "source": [
        "import matplotlib.pyplot as plt\n",
        "plt.imshow(X_train[2])"
      ],
      "metadata": {
        "colab": {
          "base_uri": "https://localhost:8080/",
          "height": 447
        },
        "id": "yjzOXz0bXDzN",
        "outputId": "7880458f-a361-48d1-b3ea-b7748849765f"
      },
      "execution_count": null,
      "outputs": [
        {
          "output_type": "execute_result",
          "data": {
            "text/plain": [
              "<matplotlib.image.AxesImage at 0x79429e69b010>"
            ]
          },
          "metadata": {},
          "execution_count": 4
        },
        {
          "output_type": "display_data",
          "data": {
            "text/plain": [
              "<Figure size 640x480 with 1 Axes>"
            ],
            "image/png": "[encoded data removed]"
          },
          "metadata": {}
        }
      ]
    },
    {
      "cell_type": "code",
      "source": [
        "X_train=X_train/255\n",
        "X_test=X_test/255"
      ],
      "metadata": {
        "id": "aCeddy2PXJdO"
      },
      "execution_count": null,
      "outputs": []
    },
    {
      "cell_type": "code",
      "source": [
        "model = Sequential()\n",
        "model.add(Flatten(input_shape=(28,28)))\n",
        "model.add(Dense(128,activation=\"relu\"))\n",
        "model.add(Dense(32,activation=\"relu\"))\n",
        "model.add(Dense(10,activation=\"softmax\"))"
      ],
      "metadata": {
        "id": "yzoN_EBGXURG"
      },
      "execution_count": null,
      "outputs": []
    },
    {
      "cell_type": "code",
      "source": [
        "model.summary()"
      ],
      "metadata": {
        "colab": {
          "base_uri": "https://localhost:8080/"
        },
        "id": "DXEuzzpYYlWV",
        "outputId": "cadff057-d086-4c48-ed7c-1f857a088dea"
      },
      "execution_count": null,
      "outputs": [
        {
          "output_type": "stream",
          "name": "stdout",
          "text": [
            "Model: \"sequential\"\n",
            "_________________________________________________________________\n",
            " Layer (type)                Output Shape              Param #   \n",
            "=================================================================\n",
            " flatten (Flatten)           (None, 784)               0         \n",
            "                                                                 \n",
            " dense (Dense)               (None, 128)               100480    \n",
            "                                                                 \n",
            " dense_1 (Dense)             (None, 32)                4128      \n",
            "                                                                 \n",
            " dense_2 (Dense)             (None, 10)                330       \n",
            "                                                                 \n",
            "=================================================================\n",
            "Total params: 104938 (409.91 KB)\n",
            "Trainable params: 104938 (409.91 KB)\n",
            "Non-trainable params: 0 (0.00 Byte)\n",
            "_________________________________________________________________\n"
          ]
        }
      ]
    },
    {
      "cell_type": "code",
      "source": [
        "model.compile(loss=\"sparse_categorical_crossentropy\",optimizer=\"Adam\",metrics=\"accuracy\")"
      ],
      "metadata": {
        "id": "59NM4EBsXtnV"
      },
      "execution_count": null,
      "outputs": []
    },
    {
      "cell_type": "code",
      "source": [
        "history= model.fit(X_train,y_train,epochs=25,validation_split=0.2)"
      ],
      "metadata": {
        "colab": {
          "base_uri": "https://localhost:8080/"
        },
        "id": "67eVR7dPX4vO",
        "outputId": "583840fc-beb9-406a-f829-bafaf2d9e262"
      },
      "execution_count": null,
      "outputs": [
        {
          "output_type": "stream",
          "name": "stdout",
          "text": [
            "Epoch 1/25\n",
            "1500/1500 [==============================] - 11s 4ms/step - loss: 0.2831 - accuracy: 0.9173 - val_loss: 0.1606 - val_accuracy: 0.9533\n",
            "Epoch 2/25\n",
            "1500/1500 [==============================] - 8s 5ms/step - loss: 0.1243 - accuracy: 0.9632 - val_loss: 0.1198 - val_accuracy: 0.9638\n",
            "Epoch 3/25\n",
            "1500/1500 [==============================] - 5s 3ms/step - loss: 0.0850 - accuracy: 0.9738 - val_loss: 0.1085 - val_accuracy: 0.9682\n",
            "Epoch 4/25\n",
            "1500/1500 [==============================] - 5s 3ms/step - loss: 0.0615 - accuracy: 0.9806 - val_loss: 0.1071 - val_accuracy: 0.9699\n",
            "Epoch 5/25\n",
            "1500/1500 [==============================] - 6s 4ms/step - loss: 0.0484 - accuracy: 0.9850 - val_loss: 0.1047 - val_accuracy: 0.9722\n",
            "Epoch 6/25\n",
            "1500/1500 [==============================] - 4s 3ms/step - loss: 0.0386 - accuracy: 0.9879 - val_loss: 0.0888 - val_accuracy: 0.9747\n",
            "Epoch 7/25\n",
            "1500/1500 [==============================] - 5s 3ms/step - loss: 0.0343 - accuracy: 0.9888 - val_loss: 0.0996 - val_accuracy: 0.9740\n",
            "Epoch 8/25\n",
            "1500/1500 [==============================] - 6s 4ms/step - loss: 0.0258 - accuracy: 0.9916 - val_loss: 0.0967 - val_accuracy: 0.9755\n",
            "Epoch 9/25\n",
            "1500/1500 [==============================] - 5s 3ms/step - loss: 0.0235 - accuracy: 0.9921 - val_loss: 0.0991 - val_accuracy: 0.9759\n",
            "Epoch 10/25\n",
            "1500/1500 [==============================] - 5s 3ms/step - loss: 0.0203 - accuracy: 0.9932 - val_loss: 0.1042 - val_accuracy: 0.9751\n",
            "Epoch 11/25\n",
            "1500/1500 [==============================] - 5s 4ms/step - loss: 0.0175 - accuracy: 0.9942 - val_loss: 0.1104 - val_accuracy: 0.9748\n",
            "Epoch 12/25\n",
            "1500/1500 [==============================] - 5s 3ms/step - loss: 0.0157 - accuracy: 0.9951 - val_loss: 0.1067 - val_accuracy: 0.9762\n",
            "Epoch 13/25\n",
            "1500/1500 [==============================] - 6s 4ms/step - loss: 0.0152 - accuracy: 0.9947 - val_loss: 0.1087 - val_accuracy: 0.9768\n",
            "Epoch 14/25\n",
            "1500/1500 [==============================] - 5s 3ms/step - loss: 0.0136 - accuracy: 0.9953 - val_loss: 0.1465 - val_accuracy: 0.9708\n",
            "Epoch 15/25\n",
            "1500/1500 [==============================] - 5s 3ms/step - loss: 0.0129 - accuracy: 0.9955 - val_loss: 0.1346 - val_accuracy: 0.9729\n",
            "Epoch 16/25\n",
            "1500/1500 [==============================] - 6s 4ms/step - loss: 0.0113 - accuracy: 0.9963 - val_loss: 0.1294 - val_accuracy: 0.9732\n",
            "Epoch 17/25\n",
            "1500/1500 [==============================] - 5s 3ms/step - loss: 0.0110 - accuracy: 0.9962 - val_loss: 0.1252 - val_accuracy: 0.9746\n",
            "Epoch 18/25\n",
            "1500/1500 [==============================] - 5s 3ms/step - loss: 0.0119 - accuracy: 0.9960 - val_loss: 0.1407 - val_accuracy: 0.9725\n",
            "Epoch 19/25\n",
            "1500/1500 [==============================] - 6s 4ms/step - loss: 0.0093 - accuracy: 0.9968 - val_loss: 0.1267 - val_accuracy: 0.9768\n",
            "Epoch 20/25\n",
            "1500/1500 [==============================] - 6s 4ms/step - loss: 0.0083 - accuracy: 0.9973 - val_loss: 0.1247 - val_accuracy: 0.9764\n",
            "Epoch 21/25\n",
            "1500/1500 [==============================] - 5s 3ms/step - loss: 0.0104 - accuracy: 0.9966 - val_loss: 0.1668 - val_accuracy: 0.9724\n",
            "Epoch 22/25\n",
            "1500/1500 [==============================] - 5s 3ms/step - loss: 0.0078 - accuracy: 0.9974 - val_loss: 0.1481 - val_accuracy: 0.9765\n",
            "Epoch 23/25\n",
            "1500/1500 [==============================] - 4s 3ms/step - loss: 0.0108 - accuracy: 0.9965 - val_loss: 0.1772 - val_accuracy: 0.9699\n",
            "Epoch 24/25\n",
            "1500/1500 [==============================] - 6s 4ms/step - loss: 0.0077 - accuracy: 0.9975 - val_loss: 0.1616 - val_accuracy: 0.9749\n",
            "Epoch 25/25\n",
            "1500/1500 [==============================] - 5s 3ms/step - loss: 0.0069 - accuracy: 0.9979 - val_loss: 0.1593 - val_accuracy: 0.9749\n"
          ]
        }
      ]
    },
    {
      "cell_type": "code",
      "source": [
        "from sklearn.metrics import accuracy_score\n",
        "y_pred=model.predict(X_test)\n",
        "y_prob=y_pred.argmax(axis=1)\n",
        "accuracy_score(y_prob,y_test)"
      ],
      "metadata": {
        "colab": {
          "base_uri": "https://localhost:8080/"
        },
        "id": "vuU6OG7jYBr4",
        "outputId": "8df11a64-a4cb-48d0-eb58-974ef6752fb8"
      },
      "execution_count": null,
      "outputs": [
        {
          "output_type": "stream",
          "name": "stdout",
          "text": [
            "313/313 [==============================] - 1s 2ms/step\n"
          ]
        },
        {
          "output_type": "execute_result",
          "data": {
            "text/plain": [
              "0.9746"
            ]
          },
          "metadata": {},
          "execution_count": 12
        }
      ]
    },
    {
      "cell_type": "code",
      "source": [
        "X_test[0].shape"
      ],
      "metadata": {
        "colab": {
          "base_uri": "https://localhost:8080/"
        },
        "id": "YfgswbzCYf1F",
        "outputId": "7c1d48ef-a2f4-49ff-f2cb-a21c5c71331f"
      },
      "execution_count": null,
      "outputs": [
        {
          "output_type": "execute_result",
          "data": {
            "text/plain": [
              "(28, 28)"
            ]
          },
          "metadata": {},
          "execution_count": 13
        }
      ]
    },
    {
      "cell_type": "markdown",
      "source": [
        "Predict single image"
      ],
      "metadata": {
        "id": "xMqhoEBBe015"
      }
    },
    {
      "cell_type": "code",
      "source": [
        "model.predict(X_test[200].reshape(1,28,28)).argmax(axis=1)"
      ],
      "metadata": {
        "colab": {
          "base_uri": "https://localhost:8080/"
        },
        "id": "qxYgsrJ6dpJh",
        "outputId": "acc89ae1-72f6-48d1-f8bf-fef9504e7809"
      },
      "execution_count": null,
      "outputs": [
        {
          "output_type": "stream",
          "name": "stdout",
          "text": [
            "1/1 [==============================] - 0s 30ms/step\n"
          ]
        },
        {
          "output_type": "execute_result",
          "data": {
            "text/plain": [
              "array([3])"
            ]
          },
          "metadata": {},
          "execution_count": 19
        }
      ]
    },
    {
      "cell_type": "code",
      "source": [
        "y_test[200]"
      ],
      "metadata": {
        "colab": {
          "base_uri": "https://localhost:8080/"
        },
        "id": "U74zVrIddxtS",
        "outputId": "4bd96635-236e-48ed-c3d0-bcb5054d8844"
      },
      "execution_count": null,
      "outputs": [
        {
          "output_type": "execute_result",
          "data": {
            "text/plain": [
              "3"
            ]
          },
          "metadata": {},
          "execution_count": 18
        }
      ]
    },
    {
      "cell_type": "markdown",
      "source": [
        "Input given by me"
      ],
      "metadata": {
        "id": "TdYmZFuYe3Wm"
      }
    },
    {
      "cell_type": "code",
      "execution_count": 33,
      "metadata": {
        "id": "Vngfv3SDV6Ml"
      },
      "outputs": [],
      "source": [
        "from PIL import Image\n",
        "import numpy as np\n",
        "img= Image.open(\"/content/drive/MyDrive/DL/1/2.jpg\")\n",
        "img = np.array(img)\n",
        "img=img/255"
      ]
    },
    {
      "cell_type": "code",
      "source": [
        "img #RGB form"
      ],
      "metadata": {
        "id": "QezczPwYYqTB",
        "colab": {
          "base_uri": "https://localhost:8080/"
        },
        "outputId": "a45f2a3f-f44c-4806-a6b4-5734ca2d1c48"
      },
      "execution_count": 34,
      "outputs": [
        {
          "output_type": "execute_result",
          "data": {
            "text/plain": [
              "array([[[0.00392157, 0.00392157, 0.00392157],\n",
              "        [0.00392157, 0.00392157, 0.00392157],\n",
              "        [0.00392157, 0.00392157, 0.00392157],\n",
              "        ...,\n",
              "        [0.        , 0.        , 0.        ],\n",
              "        [0.        , 0.        , 0.        ],\n",
              "        [0.        , 0.        , 0.        ]],\n",
              "\n",
              "       [[0.00392157, 0.00392157, 0.00392157],\n",
              "        [0.00392157, 0.00392157, 0.00392157],\n",
              "        [0.00392157, 0.00392157, 0.00392157],\n",
              "        ...,\n",
              "        [0.        , 0.        , 0.        ],\n",
              "        [0.        , 0.        , 0.        ],\n",
              "        [0.        , 0.        , 0.        ]],\n",
              "\n",
              "       [[0.00392157, 0.00392157, 0.00392157],\n",
              "        [0.00392157, 0.00392157, 0.00392157],\n",
              "        [0.00392157, 0.00392157, 0.00392157],\n",
              "        ...,\n",
              "        [0.        , 0.        , 0.        ],\n",
              "        [0.        , 0.        , 0.        ],\n",
              "        [0.        , 0.        , 0.        ]],\n",
              "\n",
              "       ...,\n",
              "\n",
              "       [[0.        , 0.        , 0.        ],\n",
              "        [0.        , 0.        , 0.        ],\n",
              "        [0.        , 0.        , 0.        ],\n",
              "        ...,\n",
              "        [0.        , 0.        , 0.        ],\n",
              "        [0.        , 0.        , 0.        ],\n",
              "        [0.        , 0.        , 0.        ]],\n",
              "\n",
              "       [[0.        , 0.        , 0.        ],\n",
              "        [0.        , 0.        , 0.        ],\n",
              "        [0.        , 0.        , 0.        ],\n",
              "        ...,\n",
              "        [0.        , 0.        , 0.        ],\n",
              "        [0.        , 0.        , 0.        ],\n",
              "        [0.        , 0.        , 0.        ]],\n",
              "\n",
              "       [[0.        , 0.        , 0.        ],\n",
              "        [0.        , 0.        , 0.        ],\n",
              "        [0.        , 0.        , 0.        ],\n",
              "        ...,\n",
              "        [0.        , 0.        , 0.        ],\n",
              "        [0.        , 0.        , 0.        ],\n",
              "        [0.        , 0.        , 0.        ]]])"
            ]
          },
          "metadata": {},
          "execution_count": 34
        }
      ]
    },
    {
      "cell_type": "code",
      "source": [
        "img_grayscale = np.dot(img[..., :3], [0.2989, 0.5870, 0.1140])"
      ],
      "metadata": {
        "id": "F8fsGv6zah2y"
      },
      "execution_count": 35,
      "outputs": []
    },
    {
      "cell_type": "code",
      "source": [
        "img_grayscale"
      ],
      "metadata": {
        "colab": {
          "base_uri": "https://localhost:8080/"
        },
        "id": "qFi6oVrTU1HP",
        "outputId": "b0ffd7c4-6028-4e18-ea51-457de0769b9d"
      },
      "execution_count": 36,
      "outputs": [
        {
          "output_type": "execute_result",
          "data": {
            "text/plain": [
              "array([[0.00392118, 0.00392118, 0.00392118, 0.00392118, 0.00392118,\n",
              "        0.00392118, 0.00392118, 0.00392118, 0.        , 0.02352706,\n",
              "        0.00784235, 0.00784235, 0.01568471, 0.        , 0.00392118,\n",
              "        0.00392118, 0.        , 0.        , 0.        , 0.00392118,\n",
              "        0.01960588, 0.        , 0.        , 0.04313294, 0.        ,\n",
              "        0.        , 0.        , 0.        ],\n",
              "       [0.00392118, 0.00392118, 0.00392118, 0.00392118, 0.00392118,\n",
              "        0.00392118, 0.00392118, 0.00392118, 0.02352706, 0.00784235,\n",
              "        0.        , 0.        , 0.        , 0.        , 0.01568471,\n",
              "        0.01176353, 0.01176353, 0.03136941, 0.03136941, 0.01568471,\n",
              "        0.01176353, 0.01176353, 0.        , 0.        , 0.        ,\n",
              "        0.        , 0.        , 0.        ],\n",
              "       [0.00392118, 0.00392118, 0.00392118, 0.00392118, 0.00392118,\n",
              "        0.00392118, 0.00392118, 0.00392118, 0.01176353, 0.        ,\n",
              "        0.        , 0.01176353, 0.        , 0.        , 0.        ,\n",
              "        0.        , 0.        , 0.        , 0.        , 0.00392118,\n",
              "        0.        , 0.        , 0.01960588, 0.05489647, 0.        ,\n",
              "        0.        , 0.        , 0.        ],\n",
              "       [0.00392118, 0.00392118, 0.00392118, 0.00392118, 0.00392118,\n",
              "        0.00392118, 0.00392118, 0.00392118, 0.        , 0.        ,\n",
              "        0.03136941, 0.02352706, 0.        , 0.00784235, 0.00784235,\n",
              "        0.        , 0.04313294, 0.50191059, 0.74502353, 0.43525059,\n",
              "        0.03136941, 0.        , 0.02352706, 0.        , 0.        ,\n",
              "        0.        , 0.        , 0.        ],\n",
              "       [0.00392118, 0.00392118, 0.00392118, 0.00392118, 0.00392118,\n",
              "        0.00392118, 0.00392118, 0.00392118, 0.00784235, 0.        ,\n",
              "        0.02352706, 0.        , 0.        , 0.03136941, 0.02744824,\n",
              "        0.04313294, 0.24311294, 0.80776235, 0.9999    , 0.59209765,\n",
              "        0.08626588, 0.        , 0.03921176, 0.        , 0.        ,\n",
              "        0.        , 0.        , 0.        ],\n",
              "       [0.00392118, 0.00392118, 0.00392118, 0.00392118, 0.00392118,\n",
              "        0.00392118, 0.00392118, 0.00392118, 0.01960588, 0.        ,\n",
              "        0.01176353, 0.        , 0.        , 0.01960588, 0.        ,\n",
              "        0.07058118, 0.90579176, 0.9999    , 0.81952588, 0.38427529,\n",
              "        0.07450235, 0.        , 0.        , 0.00784235, 0.        ,\n",
              "        0.        , 0.        , 0.        ],\n",
              "       [0.00392118, 0.00392118, 0.00392118, 0.00392118, 0.00392118,\n",
              "        0.00392118, 0.00392118, 0.00392118, 0.00392118, 0.        ,\n",
              "        0.01960588, 0.        , 0.01960588, 0.        , 0.01568471,\n",
              "        0.32937882, 0.98029412, 0.98421529, 0.61562471, 0.11371412,\n",
              "        0.        , 0.        , 0.00392118, 0.        , 0.        ,\n",
              "        0.        , 0.        , 0.        ],\n",
              "       [0.00392118, 0.00392118, 0.00392118, 0.00392118, 0.00392118,\n",
              "        0.00392118, 0.00392118, 0.00392118, 0.00392118, 0.        ,\n",
              "        0.02352706, 0.        , 0.00392118, 0.        , 0.17645294,\n",
              "        0.74894471, 0.99597882, 0.83913176, 0.38035412, 0.00392118,\n",
              "        0.        , 0.02352706, 0.        , 0.01568471, 0.        ,\n",
              "        0.        , 0.        , 0.        ],\n",
              "       [0.        , 0.        , 0.        , 0.        , 0.        ,\n",
              "        0.        , 0.        , 0.        , 0.02352706, 0.00784235,\n",
              "        0.00392118, 0.        , 0.01176353, 0.06666   , 0.67836353,\n",
              "        0.98813647, 0.83913176, 0.29800941, 0.01960588, 0.00392118,\n",
              "        0.00784235, 0.        , 0.        , 0.03136941, 0.        ,\n",
              "        0.        , 0.        , 0.        ],\n",
              "       [0.        , 0.        , 0.        , 0.        , 0.        ,\n",
              "        0.        , 0.        , 0.        , 0.        , 0.        ,\n",
              "        0.05097529, 0.01176353, 0.14116235, 0.43917176, 0.90187059,\n",
              "        0.90971294, 0.41172353, 0.09018706, 0.        , 0.        ,\n",
              "        0.        , 0.02352706, 0.        , 0.        , 0.        ,\n",
              "        0.        , 0.        , 0.        ],\n",
              "       [0.        , 0.        , 0.        , 0.        , 0.        ,\n",
              "        0.        , 0.        , 0.        , 0.00392118, 0.03921176,\n",
              "        0.        , 0.        , 0.44309294, 0.91755529, 0.9999    ,\n",
              "        0.6666    , 0.09802941, 0.        , 0.        , 0.00784235,\n",
              "        0.        , 0.01176353, 0.01960588, 0.01568471, 0.        ,\n",
              "        0.        , 0.        , 0.        ],\n",
              "       [0.        , 0.        , 0.        , 0.        , 0.        ,\n",
              "        0.        , 0.        , 0.        , 0.02352706, 0.        ,\n",
              "        0.        , 0.49798941, 0.81952588, 0.95676706, 0.64699412,\n",
              "        0.15684706, 0.02352706, 0.        , 0.        , 0.00392118,\n",
              "        0.        , 0.        , 0.        , 0.        , 0.        ,\n",
              "        0.        , 0.        , 0.        ],\n",
              "       [0.        , 0.        , 0.        , 0.        , 0.        ,\n",
              "        0.        , 0.        , 0.        , 0.        , 0.02352706,\n",
              "        0.01568471, 0.58817647, 0.9999    , 0.97245176, 0.17253176,\n",
              "        0.00392118, 0.        , 0.00392118, 0.00784235, 0.        ,\n",
              "        0.        , 0.03921176, 0.05097529, 0.        , 0.        ,\n",
              "        0.        , 0.        , 0.        ],\n",
              "       [0.        , 0.        , 0.        , 0.        , 0.        ,\n",
              "        0.        , 0.        , 0.        , 0.02352706, 0.00784235,\n",
              "        0.39603882, 0.87050118, 0.97245176, 0.90971294, 0.00392118,\n",
              "        0.01176353, 0.22350706, 0.37643294, 0.36859059, 0.19998   ,\n",
              "        0.00784235, 0.        , 0.        , 0.        , 0.        ,\n",
              "        0.        , 0.        , 0.        ],\n",
              "       [0.        , 0.        , 0.        , 0.        , 0.        ,\n",
              "        0.        , 0.        , 0.        , 0.        , 0.10195059,\n",
              "        0.65091529, 0.98813647, 0.9999    , 0.82736824, 0.36859059,\n",
              "        0.85089529, 0.85481647, 0.98421529, 0.96460941, 0.78031412,\n",
              "        0.41564471, 0.06666   , 0.        , 0.03921176, 0.        ,\n",
              "        0.        , 0.        , 0.        ],\n",
              "       [0.        , 0.        , 0.        , 0.        , 0.        ,\n",
              "        0.        , 0.        , 0.        , 0.09802941, 0.42348706,\n",
              "        0.90579176, 0.9999    , 0.98813647, 0.9999    , 0.91755529,\n",
              "        0.93324   , 0.88226471, 0.89402824, 0.91755529, 0.9999    ,\n",
              "        0.75286588, 0.23527059, 0.        , 0.        , 0.        ,\n",
              "        0.        , 0.        , 0.        ],\n",
              "       [0.00392118, 0.00392118, 0.        , 0.        , 0.        ,\n",
              "        0.        , 0.00392118, 0.00392118, 0.35682706, 0.89402824,\n",
              "        0.97245176, 0.9999    , 0.97245176, 0.74894471, 0.48230471,\n",
              "        0.39996   , 0.02744824, 0.06273882, 0.39603882, 0.92931882,\n",
              "        0.48622588, 0.01568471, 0.        , 0.        , 0.        ,\n",
              "        0.        , 0.        , 0.        ],\n",
              "       [0.00392118, 0.00392118, 0.        , 0.        , 0.        ,\n",
              "        0.        , 0.00392118, 0.00392118, 0.25095529, 0.73326   ,\n",
              "        0.9999    , 0.9999    , 0.59209765, 0.11763529, 0.        ,\n",
              "        0.03136941, 0.12547765, 0.24703412, 0.47838353, 0.55680706,\n",
              "        0.10979294, 0.        , 0.02352706, 0.        , 0.        ,\n",
              "        0.        , 0.        , 0.        ],\n",
              "       [0.00392118, 0.00392118, 0.        , 0.        , 0.        ,\n",
              "        0.        , 0.00392118, 0.00392118, 0.32153647, 0.79207765,\n",
              "        0.9999    , 0.98029412, 0.58817647, 0.11763529, 0.07450235,\n",
              "        0.34506353, 0.63523059, 0.76070824, 0.86265882, 0.52151647,\n",
              "        0.        , 0.01176353, 0.        , 0.00392118, 0.        ,\n",
              "        0.        , 0.        , 0.        ],\n",
              "       [0.00392118, 0.00392118, 0.        , 0.        , 0.        ,\n",
              "        0.        , 0.00392118, 0.00392118, 0.19998   , 0.70189059,\n",
              "        0.94892471, 0.97637294, 0.86658   , 0.65483647, 0.66267882,\n",
              "        0.86658   , 0.88226471, 0.68620588, 0.50975294, 0.22742824,\n",
              "        0.        , 0.04313294, 0.        , 0.01960588, 0.        ,\n",
              "        0.        , 0.        , 0.        ],\n",
              "       [0.00392118, 0.00392118, 0.        , 0.        , 0.        ,\n",
              "        0.        , 0.00392118, 0.00392118, 0.09410824, 0.35290588,\n",
              "        0.67444235, 0.88226471, 0.96853059, 0.98029412, 0.87834353,\n",
              "        0.63523059, 0.39996   , 0.18037412, 0.        , 0.        ,\n",
              "        0.        , 0.00784235, 0.        , 0.01960588, 0.        ,\n",
              "        0.        , 0.        , 0.        ],\n",
              "       [0.00392118, 0.00392118, 0.        , 0.        , 0.        ,\n",
              "        0.        , 0.00392118, 0.00392118, 0.        , 0.04313294,\n",
              "        0.17645294, 0.29408824, 0.44701412, 0.47054118, 0.33722118,\n",
              "        0.10195059, 0.        , 0.02744824, 0.        , 0.03921176,\n",
              "        0.02352706, 0.        , 0.01568471, 0.        , 0.        ,\n",
              "        0.        , 0.        , 0.        ],\n",
              "       [0.00392118, 0.00392118, 0.        , 0.        , 0.        ,\n",
              "        0.        , 0.00392118, 0.00392118, 0.        , 0.03529059,\n",
              "        0.05881765, 0.        , 0.00784235, 0.        , 0.        ,\n",
              "        0.05881765, 0.        , 0.01176353, 0.        , 0.        ,\n",
              "        0.        , 0.01568471, 0.04705412, 0.        , 0.        ,\n",
              "        0.        , 0.        , 0.        ],\n",
              "       [0.00392118, 0.00392118, 0.        , 0.        , 0.        ,\n",
              "        0.        , 0.00392118, 0.00392118, 0.03529059, 0.        ,\n",
              "        0.01568471, 0.01176353, 0.        , 0.00392118, 0.04313294,\n",
              "        0.        , 0.01568471, 0.        , 0.01176353, 0.03136941,\n",
              "        0.00784235, 0.        , 0.        , 0.01176353, 0.        ,\n",
              "        0.        , 0.        , 0.        ],\n",
              "       [0.        , 0.        , 0.        , 0.        , 0.        ,\n",
              "        0.        , 0.        , 0.        , 0.        , 0.        ,\n",
              "        0.        , 0.        , 0.        , 0.        , 0.        ,\n",
              "        0.        , 0.        , 0.        , 0.        , 0.        ,\n",
              "        0.        , 0.        , 0.        , 0.        , 0.        ,\n",
              "        0.        , 0.        , 0.        ],\n",
              "       [0.        , 0.        , 0.        , 0.        , 0.        ,\n",
              "        0.        , 0.        , 0.        , 0.        , 0.        ,\n",
              "        0.        , 0.        , 0.        , 0.        , 0.        ,\n",
              "        0.        , 0.        , 0.        , 0.        , 0.        ,\n",
              "        0.        , 0.        , 0.        , 0.        , 0.        ,\n",
              "        0.        , 0.        , 0.        ],\n",
              "       [0.        , 0.        , 0.        , 0.        , 0.        ,\n",
              "        0.        , 0.        , 0.        , 0.        , 0.        ,\n",
              "        0.        , 0.        , 0.        , 0.        , 0.        ,\n",
              "        0.        , 0.        , 0.        , 0.        , 0.        ,\n",
              "        0.        , 0.        , 0.        , 0.        , 0.        ,\n",
              "        0.        , 0.        , 0.        ],\n",
              "       [0.        , 0.        , 0.        , 0.        , 0.        ,\n",
              "        0.        , 0.        , 0.        , 0.        , 0.        ,\n",
              "        0.        , 0.        , 0.        , 0.        , 0.        ,\n",
              "        0.        , 0.        , 0.        , 0.        , 0.        ,\n",
              "        0.        , 0.        , 0.        , 0.        , 0.        ,\n",
              "        0.        , 0.        , 0.        ]])"
            ]
          },
          "metadata": {},
          "execution_count": 36
        }
      ]
    },
    {
      "cell_type": "code",
      "source": [
        "img_grayscale.shape"
      ],
      "metadata": {
        "colab": {
          "base_uri": "https://localhost:8080/"
        },
        "id": "akwcF9Awce3n",
        "outputId": "71e62aaa-72de-4183-c0ce-232570b9013b"
      },
      "execution_count": 37,
      "outputs": [
        {
          "output_type": "execute_result",
          "data": {
            "text/plain": [
              "(28, 28)"
            ]
          },
          "metadata": {},
          "execution_count": 37
        }
      ]
    },
    {
      "cell_type": "code",
      "source": [
        "y_prob=model.predict(img_grayscale.reshape(1,28,28))"
      ],
      "metadata": {
        "colab": {
          "base_uri": "https://localhost:8080/"
        },
        "id": "VD3lSdyaeSUv",
        "outputId": "03c4dc96-0218-419c-8aa5-8f12aade0996"
      },
      "execution_count": 38,
      "outputs": [
        {
          "output_type": "stream",
          "name": "stdout",
          "text": [
            "1/1 [==============================] - 0s 18ms/step\n"
          ]
        }
      ]
    },
    {
      "cell_type": "code",
      "source": [
        "y_prob"
      ],
      "metadata": {
        "colab": {
          "base_uri": "https://localhost:8080/"
        },
        "id": "KuFoF76BfeGz",
        "outputId": "d4db0d8c-bc38-4c95-f5b7-38e6dcb27288"
      },
      "execution_count": 39,
      "outputs": [
        {
          "output_type": "execute_result",
          "data": {
            "text/plain": [
              "array([[1.1687664e-11, 4.1898400e-16, 2.9555802e-14, 4.1207323e-15,\n",
              "        1.2282154e-12, 1.5439307e-12, 1.0000000e+00, 3.5493116e-16,\n",
              "        9.4627917e-12, 1.3089104e-16]], dtype=float32)"
            ]
          },
          "metadata": {},
          "execution_count": 39
        }
      ]
    },
    {
      "cell_type": "code",
      "source": [
        "y_prob.argmax()"
      ],
      "metadata": {
        "colab": {
          "base_uri": "https://localhost:8080/"
        },
        "id": "POrbygOVUWc_",
        "outputId": "0a0d1441-6297-4cb0-ff8e-245c8de6797f"
      },
      "execution_count": 40,
      "outputs": [
        {
          "output_type": "execute_result",
          "data": {
            "text/plain": [
              "6"
            ]
          },
          "metadata": {},
          "execution_count": 40
        }
      ]
    },
    {
      "cell_type": "code",
      "source": [
        "plt.imshow(img_grayscale)"
      ],
      "metadata": {
        "colab": {
          "base_uri": "https://localhost:8080/",
          "height": 447
        },
        "id": "E4OLmJyheYAt",
        "outputId": "4f4ceef0-a7b3-46e7-bbee-e703649e6e1f"
      },
      "execution_count": 41,
      "outputs": [
        {
          "output_type": "execute_result",
          "data": {
            "text/plain": [
              "<matplotlib.image.AxesImage at 0x7941f5b5ef80>"
            ]
          },
          "metadata": {},
          "execution_count": 41
        },
        {
          "output_type": "display_data",
          "data": {
            "text/plain": [
              "<Figure size 640x480 with 1 Axes>"
            ],
            "image/png": "[encoded data removed]"
          },
          "metadata": {}
        }
      ]
    },
    {
      "cell_type": "code",
      "source": [],
      "metadata": {
        "id": "BF52_eIgefLS"
      },
      "execution_count": null,
      "outputs": []
    }
  ]
}